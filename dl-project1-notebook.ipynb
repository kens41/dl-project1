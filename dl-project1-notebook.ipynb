{
    "nbformat_minor": 1, 
    "cells": [
        {
            "source": "from project_lib import Project\n\nproject = Project(project_id='aece9be8-8a5c-4d59-83da-1d12eedf93a4', project_access_token='p-6ad9741786bd0f73916831a0504aacbf1d42ca3f')\npc = project.project_context\n\n", 
            "cell_type": "code", 
            "metadata": {}, 
            "outputs": [], 
            "execution_count": null
        }
    ], 
    "metadata": {
        "kernelspec": {
            "display_name": "Python 3.5", 
            "name": "python3", 
            "language": "python"
        }, 
        "language_info": {
            "mimetype": "text/x-python", 
            "nbconvert_exporter": "python", 
            "version": "3.5.5", 
            "name": "python", 
            "pygments_lexer": "ipython3", 
            "file_extension": ".py", 
            "codemirror_mode": {
                "version": 3, 
                "name": "ipython"
            }
        }
    }, 
    "nbformat": 4
}