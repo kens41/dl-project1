{
    "nbformat_minor": 1, 
    "cells": [
        {
            "source": "from project_lib import Project\n\nproject = Project(project_id='aece9be8-8a5c-4d59-83da-1d12eedf93a4', project_access_token='p-6ad9741786bd0f73916831a0504aacbf1d42ca3f')\npc = project.project_context\n\nimport wget\ndef download_and_save(weblink):\n    wget.download(weblink)\n    fname = weblink.split(\"/\")[-1]\n    project.save_data(weblink.split(\"/\")[-1], open(fname, 'rb'), overwrite=True)\n    \ndownload_and_save('https://github.com/zalandoresearch/fashion-mnist/blob/master/data/fashion/t10k-images-idx3-ubyte.gz')\ndownload_and_save('https://github.com/zalandoresearch/fashion-mnist/blob/master/data/fashion/t10k-labels-idx1-ubyte.gz')\ndownload_and_save('https://github.com/zalandoresearch/fashion-mnist/blob/master/data/fashion/train-images-idx3-ubyte.gz')\ndownload_and_save('https://github.com/zalandoresearch/fashion-mnist/blob/master/data/fashion/train-labels-idx1-ubyte.gz')\n", 
            "cell_type": "code", 
            "metadata": {}, 
            "outputs": [], 
            "execution_count": 1
        }, 
        {
            "source": "import os\nos.listdir()", 
            "cell_type": "code", 
            "metadata": {}, 
            "outputs": [
                {
                    "output_type": "execute_result", 
                    "data": {
                        "text/plain": "[]"
                    }, 
                    "execution_count": 2, 
                    "metadata": {}
                }
            ], 
            "execution_count": 2
        }, 
        {
            "source": "", 
            "cell_type": "code", 
            "metadata": {}, 
            "outputs": [], 
            "execution_count": null
        }
    ], 
    "metadata": {
        "kernelspec": {
            "display_name": "Python 3.5", 
            "name": "python3", 
            "language": "python"
        }, 
        "language_info": {
            "mimetype": "text/x-python", 
            "nbconvert_exporter": "python", 
            "version": "3.5.5", 
            "name": "python", 
            "pygments_lexer": "ipython3", 
            "file_extension": ".py", 
            "codemirror_mode": {
                "version": 3, 
                "name": "ipython"
            }
        }
    }, 
    "nbformat": 4
}